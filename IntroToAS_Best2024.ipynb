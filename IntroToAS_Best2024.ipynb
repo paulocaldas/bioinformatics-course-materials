{
 "cells": [
  {
   "cell_type": "markdown",
   "id": "3c954447-e156-401c-8d8a-59d924c00f3a",
   "metadata": {},
   "source": [
    "<h3 align = \"center\"> Introduction to Differential Splicing Analysis with Python </h3>\n",
    "<hr>\n",
    "<h4 align = \"center\"> Bioinformatics with Python & Pandas </h4>\n",
    "\n",
    "<h3 align = \"center\"> <img src=\"https://files.realpython.com/media/Python-Pandas-10-Tricks--Features-You-May-Not-Know-Watermark.e58bb5ce9835.jpg\" width=\"500\"/>\n",
    "\n",
    "<h4 align = \"center\"> Paulo Caldas | FCT-NOVA | cOMICS Lab </h4>\n",
    "<hr>"
   ]
  },
  {
   "cell_type": "markdown",
   "id": "b5807ef4-5991-4582-81b2-dde2b19b3f03",
   "metadata": {},
   "source": [
    "### Why Pandas?\n",
    "- Pandas is one of the most powerful libraries for anything related with data science <br>\n",
    "- Provides fast, flexible, easy and intuitive data manipulation of data frames <br>\n",
    "- Allows to work with big data sets and/or multiple files at once <br>\n",
    "\n",
    "### About Pandas\n",
    "- `pandas` runs on top of `numpy` \n",
    "- Provides high-level data structure (Data Frames) --> they look like spreadsheets!\n",
    "- Contains built-in functions to clean, group, merge, and concatenate tabular data\n",
    "- Easy to apply `numpy` and `scipy` functions on tabular data\n",
    "\n",
    "### Install Pandas\n",
    "... if you installed Anaconda you're good to go!\n",
    "- Anaconda is a popular distribution of the Python (and R programming languages actually!) for scientific computing and data science.\n",
    "- It comes with a wide range of pre-installed packages commonly used in these fields - making it convenient for users to get startedision tasks."
   ]
  },
  {
   "cell_type": "markdown",
   "id": "06053a4c-7d3c-49e0-b6eb-815e01f8ae1b",
   "metadata": {},
   "source": [
    "### <span style='color:darkblue'> Step 0 - Import Packages"
   ]
  },
  {
   "cell_type": "code",
   "execution_count": null,
   "id": "100aa023-0f1a-410e-9113-efd46182367d",
   "metadata": {},
   "outputs": [],
   "source": [
    "# packages for data manipulation and math operations\n",
    "import pandas as pd\n",
    "import numpy as np\n",
    "\n",
    "# packages for data visualization\n",
    "import matplotlib.pyplot as plt\n",
    "import seaborn as sns"
   ]
  },
  {
   "cell_type": "code",
   "execution_count": null,
   "id": "0bf6b222-8322-4086-b430-b07dc601acd6",
   "metadata": {},
   "outputs": [],
   "source": [
    "# rationale behind packages and functions if needed"
   ]
  },
  {
   "attachments": {
    "4d0711dc-32d9-4db0-8b0c-6a854260a0d3.png": {
     "image/png": "[encoded data removed]"
    }
   },
   "cell_type": "markdown",
   "id": "a2ca7a6f-0277-450e-8416-0db205ae2664",
   "metadata": {},
   "source": [
    "### <span style='color:darkblue'> Step 1 - Import Data (Output from VastTools)\n",
    "- more on vast-tools: https://github.com/vastgroup/vast-tools\n",
    "- data: PSI values from mammalian organ development: https://www.ncbi.nlm.nih.gov/pmc/articles/PMC6658352/\n",
    "\n",
    "![image.png](attachment:4d0711dc-32d9-4db0-8b0c-6a854260a0d3.png)"
   ]
  },
  {
   "cell_type": "code",
   "execution_count": null,
   "id": "1ba6e5a0-3a8d-454a-a3c9-f98dd74ef029",
   "metadata": {},
   "outputs": [],
   "source": [
    "# import data - Understand the data\n",
    "inclusion_table = pd.read_table('data/betaAS_inclusion_table_reshaped.txt')\n",
    "inclusion_table"
   ]
  },
  {
   "cell_type": "markdown",
   "id": "64fc0635-7ba4-4e81-850f-4c690cf56648",
   "metadata": {},
   "source": [
    "### <span style='color:darkblue'> Step 2 - General Exploratory Analysis "
   ]
  },
  {
   "cell_type": "code",
   "execution_count": null,
   "id": "f466e208-36de-4fb4-b90b-923fe41c9abb",
   "metadata": {},
   "outputs": [],
   "source": [
    "inclusion_table.columns\n",
    "#inclusion_table.shape\n",
    "#inclusion_table.info() #check overall info of each column\n",
    "#inclusion_table.describe() # overall statistics for numeric columns\n",
    "#inclusion_table.head() # check the top of the table\n",
    "#inclusion_table.tail() # check bottom of the table\n",
    "#inclusion_table.columns # check all headers\n",
    "#inclusion_table['GENE'] # select column\n",
    "#inclusion_table[['GENE','EVENT','COMPLEX']] # get a subtable selecting mutiple columns (slice by columns)\n",
    "#inclusion_table.iloc[60] # check row number 60 on the list\n",
    "#inclusion_table.iloc[300:400] #check slice of rows\n",
    "#inclusion_table['LENGHT'].mean() # check mean of one column\n",
    "#inclusion_table['LENGHT'].std() # chech standard deviation of one column\n",
    "#inclusion_table['GENE'].unique() # how many different values exist along the column\n",
    "\n",
    "# ... and much more # ... "
   ]
  },
  {
   "cell_type": "markdown",
   "id": "d4a62425-d46f-4b54-9caf-fd690f0cf9a8",
   "metadata": {},
   "source": [
    "#### Which genes have the greatest variety of isoforms?\n",
    "- learn basic plotting from data frame"
   ]
  },
  {
   "cell_type": "code",
   "execution_count": null,
   "id": "e6f81b56-349d-4693-b25f-5156e441b2df",
   "metadata": {},
   "outputs": [],
   "source": [
    "# quicly access distribution of the data -> but not the best way for plotting\n",
    "inclusion_table['GENE'].value_counts().plot(kind = 'density');\n",
    "#inclusion_table['GENE'].value_counts().head(20).plot(kind = 'bar', color = 'crimson', figsize = (10,4), edgecolor = 'k');"
   ]
  },
  {
   "cell_type": "code",
   "execution_count": null,
   "id": "e28b62ea-1bec-4e0f-a395-998fe79a1075",
   "metadata": {},
   "outputs": [],
   "source": [
    "inclusion_table['FOREBRAIN.ADOLESCENT_ERR2598268'].plot(kind = 'density');\n",
    "inclusion_table['FOREBRAIN.ELDERLY_ERR2598280'].plot(kind = 'density');"
   ]
  },
  {
   "cell_type": "markdown",
   "id": "b2388a25-a286-47da-abf2-54b4656ff6e6",
   "metadata": {},
   "source": [
    "#### What is the relative % of alternative splicing events?\n",
    "\n",
    "**Column 6: Type of event**\n",
    "- S, C1, C2, C3: exon skipping (EX) events with increasing degrees of complexity\n",
    "- IR: intron retention event\n",
    "- Alt3: ALTA events\n",
    "- Alt5: ALTD events"
   ]
  },
  {
   "cell_type": "code",
   "execution_count": null,
   "id": "8f5ac2e3-d933-4af8-9a05-77c204eb6f11",
   "metadata": {},
   "outputs": [],
   "source": [
    "event_counts = inclusion_table['COMPLEX'].value_counts()\n",
    "plt.pie(event_counts, labels=event_counts.index);"
   ]
  },
  {
   "cell_type": "markdown",
   "id": "d1197133-7411-457e-9f52-6b9dcf0dbab2",
   "metadata": {},
   "source": [
    "### Viasualize PSI across samples with a heatmap"
   ]
  },
  {
   "cell_type": "code",
   "execution_count": null,
   "id": "61de736d-4bdd-4c61-a627-c630e1a48670",
   "metadata": {},
   "outputs": [],
   "source": [
    "heatmap_data = inclusion_table.set_index('EVENT').drop(['GENE','COORD','LENGTH','COMPLEX'], axis = 1)\n",
    "\n",
    "# organize by mean PSI value\n",
    "mean_psi_index = heatmap_data.mean(axis = 1).sort_values(ascending = True).index\n",
    "heatmap_data = heatmap_data.loc[mean_psi_index]"
   ]
  },
  {
   "cell_type": "code",
   "execution_count": null,
   "id": "712ea76b-6b32-42bd-9c6f-728f986db5c8",
   "metadata": {},
   "outputs": [],
   "source": [
    "plt.figure(figsize = (6,6), dpi = 120)\n",
    "sns.heatmap(heatmap_data);"
   ]
  },
  {
   "cell_type": "markdown",
   "id": "a389f019-09ae-496b-9d06-e11051b13930",
   "metadata": {},
   "source": [
    "#### What are the most relevant events?\n",
    "- the ones that vary the most across samples?"
   ]
  },
  {
   "cell_type": "code",
   "execution_count": null,
   "id": "232b1948-e73d-4177-997b-a3cc5b514cc9",
   "metadata": {},
   "outputs": [],
   "source": [
    "inclusion_table_var = inclusion_table.set_index(['GENE', 'EVENT']).drop(['COORD','LENGTH','COMPLEX'], axis = 1)\n",
    "inclusion_table_var['PSI_VAR'] = inclusion_table_var.std(axis = 1)\n",
    "\n",
    "# discard lines where variance is close to zero\n",
    "inclusion_table_var = inclusion_table_var[inclusion_table_var['PSI_VAR'] > 1]\n",
    "\n",
    "# sort rows by variance\n",
    "inclusion_table_var = inclusion_table_var.sort_values('PSI_VAR', ascending=False)\n",
    "inclusion_table_var"
   ]
  },
  {
   "cell_type": "markdown",
   "id": "260940a6-55fe-4638-ae9a-c8cb45deca8d",
   "metadata": {},
   "source": [
    "#### Basic Plotting - Distribution of PSI for a given event"
   ]
  },
  {
   "cell_type": "code",
   "execution_count": null,
   "id": "0e56d44a-d1b8-4dd6-b895-2f08009d4a6c",
   "metadata": {},
   "outputs": [],
   "source": [
    "# show distribution of PSIs for a given event/gene - LIVER VS. BRAIN\n",
    "event = 'HsaEX0005151'\n",
    "# HsaEX0047257,HsaEX0047258\n",
    "\n",
    "event_brain = inclusion_table[inclusion_table['EVENT'] == event].filter(like = 'FOREBRAIN')\n",
    "event_liver = inclusion_table[inclusion_table['EVENT'] == event].filter(like = 'LIVER')\n",
    "event_heart = inclusion_table[inclusion_table['EVENT'] == event].filter(like = 'HEART')\n",
    "\n",
    "# build new data frame for the event\n",
    "event_df = pd.DataFrame([event_brain.values[0], event_heart.values[0], event_liver.values[0]],\n",
    "                         index=['brain','heart','liver']).T\n",
    "\n",
    "# plot\n",
    "sns.barplot(data = event_df, palette = 'Pastel2');\n",
    "sns.stripplot(data = event_df, color = 'k');\n",
    "plt.ylabel('PSI');"
   ]
  },
  {
   "cell_type": "code",
   "execution_count": null,
   "id": "6192c8b4-b7c2-4d78-acda-eae2238b7b9a",
   "metadata": {},
   "outputs": [],
   "source": [
    "# more plotting\n",
    "#sns.kdeplot(data = event_df, fill = True);\n",
    "#sns.boxplot(data = event_df);\n",
    "#sns.violinplot(data = event_df);"
   ]
  },
  {
   "cell_type": "code",
   "execution_count": null,
   "id": "92a366f0-4b9d-4c35-9a42-f5b5610d805f",
   "metadata": {},
   "outputs": [],
   "source": [
    "# Show statistical significance ?\n",
    "from scipy.stats import ttest_ind, mannwhitneyu, wilcoxon\n",
    "\n",
    "ttest_ind(event_brain.values[0], event_liver.values[0])"
   ]
  },
  {
   "cell_type": "code",
   "execution_count": null,
   "id": "5282d606-16e9-4322-9676-b8a67a223e02",
   "metadata": {},
   "outputs": [],
   "source": [
    "# dispine the size of the bars the values are not statistical significant ... even if we try more events ... \n",
    "# reason? -> we're tracking variability within tissues and not only between tissues (diff stages?)... more on that later"
   ]
  },
  {
   "cell_type": "markdown",
   "id": "f6faf637-80b5-4bb2-943b-98a116530953",
   "metadata": {},
   "source": [
    "..."
   ]
  },
  {
   "cell_type": "markdown",
   "id": "05894e5e-16b7-43e0-96c6-82b6d89dcf40",
   "metadata": {},
   "source": [
    "#### EXTRA: For a given gene, plot how the PSI values varie within the gene body? and between Tissues?"
   ]
  },
  {
   "cell_type": "code",
   "execution_count": null,
   "id": "b933344d-1fc4-4229-b8d2-9a6fa9d9f6da",
   "metadata": {},
   "outputs": [],
   "source": [
    "gene = 'EPN1'\n",
    "\n",
    "brain_gene_exons = inclusion_table[inclusion_table['GENE'] == gene].filter(like = 'BRAIN').mean(axis = 1).reset_index(drop = True)\n",
    "liver_gene_exons = inclusion_table[inclusion_table['GENE'] == gene].filter(like = 'LIVER').mean(axis = 1).reset_index(drop = True)\n",
    "heart_gene_exons = inclusion_table[inclusion_table['GENE'] == gene].filter(like = 'HEART').mean(axis = 1).reset_index(drop = True)\n",
    "\n",
    "#sns.scatter(data = [brain_gene_exons, liver_gene_exons])\n",
    "#sns.boxplot(data = liver_gene_exons)\n",
    "\n",
    "gene_exons_tissues = pd.DataFrame([brain_gene_exons, liver_gene_exons, heart_gene_exons], \n",
    "                                  index = ['BRAIN','LIVER', 'HEART']).T.reset_index()\n",
    "\n",
    "# plot varation of exon inclusion along the gene\n",
    "#plt.figure(figsize = (4,3), dpi = 150)\n",
    "plt.figure(figsize = (4,3), dpi = 120)\n",
    "sns.scatterplot(data = gene_exons_tissues, x = 'index', y = 'BRAIN', color = 'steelblue', edgecolor = 'k', s = 30, label = 'Brain')\n",
    "sns.scatterplot(data = gene_exons_tissues, x = 'index', y = 'LIVER', color = 'seagreen', edgecolor = 'k', s = 30, label = 'Liver')\n",
    "sns.scatterplot(data = gene_exons_tissues, x = 'index', y = 'HEART', color = 'violet', edgecolor = 'k', s = 30, label = 'Heart')\n",
    "\n",
    "# make it fancy\n",
    "plt.title('Levels of Exon Usage along {} \\n'.format(gene), fontsize = 10) # add title\n",
    "plt.ylabel('PSI'); plt.xlabel('Exon Number'); # format axis label\n",
    "plt.legend(frameon = False, loc = 4); # format legend\n",
    "sns.despine(trim=True) # make it look like R's plots"
   ]
  },
  {
   "cell_type": "code",
   "execution_count": null,
   "id": "0e556feb-38da-49bc-b296-c5dd28bc27f5",
   "metadata": {},
   "outputs": [],
   "source": []
  },
  {
   "attachments": {
    "acf0d9cb-2998-411e-b3f3-b6442026af81.png": {
     "image/png": "[encoded data removed]"
    }
   },
   "cell_type": "markdown",
   "id": "bc8be358-663d-41de-9471-a210e171927a",
   "metadata": {},
   "source": [
    "### <span style='color:darkblue'> Step 3 - Compare Brain vs. Liver\n",
    "- Output from ***vast-tools diff***: performs a statistical test to assess whether the PSI distributions of the two compared groups are signficantly different.\n",
    "- compares samples taking into account quality of reads and their contribution to the total pool <br>\n",
    "\n",
    "![image.png](attachment:acf0d9cb-2998-411e-b3f3-b6442026af81.png)"
   ]
  },
  {
   "cell_type": "code",
   "execution_count": null,
   "id": "83e5f6e4-93b3-4d52-84fa-173b689b6ee2",
   "metadata": {},
   "outputs": [],
   "source": [
    "# import ouput from vast-tools diff\n",
    "diff_brain_liver = pd.read_table('data/diff_brain_minus_liver.tab')\n",
    "diff_brain_liver.sort_values('dPSI')"
   ]
  },
  {
   "cell_type": "markdown",
   "id": "1b47089f-8093-48eb-a78b-52124dda88ea",
   "metadata": {},
   "source": [
    "#### Visualize the most relevant events"
   ]
  },
  {
   "cell_type": "code",
   "execution_count": null,
   "id": "ad37ff0e-638e-47b7-93d2-c0eda48a842d",
   "metadata": {},
   "outputs": [],
   "source": [
    "# plot delta psi vs. statistics\n",
    "plt.figure(figsize = (4,3), dpi = 120)\n",
    "sns.scatterplot(data = diff_brain_liver, x = 'dPSI', y = 'MV[dPsi]');"
   ]
  },
  {
   "cell_type": "code",
   "execution_count": null,
   "id": "169d3955-4396-4a53-9418-ff27f9403766",
   "metadata": {},
   "outputs": [],
   "source": [
    "# color most relevant events in a different color\n",
    "dpsi = 0.3\n",
    "stat = 0.1\n",
    "\n",
    "diff_brain_liver_filtered = diff_brain_liver[(abs(diff_brain_liver['dPSI']) > dpsi) \n",
    "                                              & (diff_brain_liver['MV[dPsi]'] > stat)]\n",
    "\n",
    "# plotting \n",
    "plt.figure(figsize = (4,3), dpi = 150)\n",
    "sns.scatterplot(data = diff_brain_liver, x = 'dPSI', y = 'MV[dPsi]', color = 'steelblue', edgecolor = 'k')\n",
    "sns.scatterplot(data = diff_brain_liver_filtered, x = 'dPSI', y = 'MV[dPsi]', color = 'salmon',  edgecolor = 'r');\n",
    "#sns.despine(trim=True) # make it look like R's plots"
   ]
  },
  {
   "cell_type": "code",
   "execution_count": null,
   "id": "aa8f32b6-5258-403b-a457-401fdd3309dc",
   "metadata": {},
   "outputs": [],
   "source": []
  },
  {
   "cell_type": "markdown",
   "id": "3eed4e05-2760-4812-8cd2-087e6fd5232d",
   "metadata": {},
   "source": [
    "#### Show Isoform Switch in a Heatmap"
   ]
  },
  {
   "cell_type": "code",
   "execution_count": null,
   "id": "b8c8cb0b-42f9-4954-8804-53d56a3a7f2a",
   "metadata": {},
   "outputs": [],
   "source": [
    "heatmap_data = diff_brain_liver_filtered[['GENE','BRAIN','LIVER']].set_index('GENE')\n",
    "heatmap_data.head()"
   ]
  },
  {
   "cell_type": "code",
   "execution_count": null,
   "id": "a1e46212-dc66-486e-bec9-4855106559e2",
   "metadata": {},
   "outputs": [],
   "source": [
    "sns.heatmap(data = heatmap_data.sort_values('LIVER'), cmap='Blues')"
   ]
  },
  {
   "cell_type": "markdown",
   "id": "27a5c5ce-d4b8-440d-87c9-1900a44df16e",
   "metadata": {},
   "source": [
    "#### Show distribution of PSIs for a given event/gene - BRAIN VS. LIVER\n",
    "- back to inclusion table"
   ]
  },
  {
   "cell_type": "code",
   "execution_count": null,
   "id": "70c843c2-3b69-4209-86d2-f519a9c2e032",
   "metadata": {},
   "outputs": [],
   "source": [
    "gene = 'INTS10'\n",
    "\n",
    "gene_brain = inclusion_table[inclusion_table['GENE'] == gene].filter(like = 'FOREBRAIN')\n",
    "gene_liver = inclusion_table[inclusion_table['GENE'] == gene].filter(like = 'LIVER')\n",
    "\n",
    "# build new data frame for the event\n",
    "gene_df = pd.DataFrame([gene_brain.values[0], gene_liver.values[0]], index=['brain','liver']).T\n",
    "\n",
    "gene_brain = inclusion_table[['GENE','EVENT'] + gene_brain.columns.tolist()].loc[gene_brain.index]\n",
    "gene_liver = inclusion_table[['GENE','EVENT'] + gene_liver.columns.tolist()].loc[gene_liver.index]\n",
    "\n",
    "# melt table for plotting\n",
    "gene_liver = gene_liver.melt(id_vars = ['GENE','EVENT'])\n",
    "gene_brain = gene_brain.melt(id_vars = ['GENE','EVENT'])\n",
    "\n",
    "gene_liver['tissue'] = 'LIVER'\n",
    "gene_brain['tissue'] = 'BRAIN'\n",
    "\n",
    "# combine into a table\n",
    "gene_event = pd.concat([gene_liver, gene_brain])\n",
    "gene_event"
   ]
  },
  {
   "cell_type": "code",
   "execution_count": null,
   "id": "0219c999-7153-4c1c-b194-37ae23890be2",
   "metadata": {},
   "outputs": [],
   "source": [
    "sns.boxplot(data = gene_event, x = 'EVENT', y = 'value', hue = 'tissue', palette=['steelblue','crimson'])\n",
    "#sns.stripplot(data = gene_event, x = 'EVENT', y = 'value', hue = 'tissue', dodge = True, \n",
    "#              palette=['w','w'], edgecolor=\"k\", linewidth=0.5)"
   ]
  },
  {
   "cell_type": "markdown",
   "id": "fdcee1aa-2c35-442e-9322-bd5b76571206",
   "metadata": {},
   "source": [
    "#### Advanced Students -> if you're bored:\n",
    "- Can the different in developmental stages (Young Adult vs. Elderly) explain such variance within the same tissue?"
   ]
  },
  {
   "cell_type": "markdown",
   "id": "e93863ce-3d1c-4eca-8ab8-f1f9dca77379",
   "metadata": {},
   "source": [
    "### <span style='color:darkblue'> Step 4 - Combine with Differential Expression Data"
   ]
  },
  {
   "cell_type": "code",
   "execution_count": null,
   "id": "0cb4a879-32df-48f3-8502-119cc0b579a8",
   "metadata": {},
   "outputs": [],
   "source": [
    "# import diff exp data\n",
    "dge_brain_liver = pd.read_table('data/degs_brain_minus_liver.tab')\n",
    "\n",
    "# combine with splicing data\n",
    "diff_brain_liver_with_dge = diff_brain_liver.merge(dge_brain_liver)\n",
    "diff_brain_liver_with_dge"
   ]
  },
  {
   "cell_type": "markdown",
   "id": "5bd9b85b-8e39-4c37-8eed-df2e8e5d3746",
   "metadata": {},
   "source": [
    "#### Plot Diff Expression Data vs. Diff Spliced Data"
   ]
  },
  {
   "cell_type": "code",
   "execution_count": null,
   "id": "d784e7e1-6544-4c28-a9ea-faef915f545f",
   "metadata": {},
   "outputs": [],
   "source": [
    "sns.scatterplot(data = diff_brain_liver_with_dge, x = 'dPSI', y = 'log2FoldChange')"
   ]
  },
  {
   "cell_type": "markdown",
   "id": "f4acf9cf-abed-46fd-b26a-11572a519ebe",
   "metadata": {},
   "source": [
    "#### What are the most relevant cases to look at?"
   ]
  },
  {
   "cell_type": "code",
   "execution_count": null,
   "id": "0612ec80-201d-4019-a68a-83073e4c9e31",
   "metadata": {},
   "outputs": [],
   "source": [
    "# conditions as variables\n",
    "pval = 0.05\n",
    "logFC = 1\n",
    "psi = 0.3\n",
    "mv = 0.1\n",
    "\n",
    "# set conditions\n",
    "conditions_noDEGs = ((diff_brain_liver_with_dge['padj'] < pval) & (abs(diff_brain_liver_with_dge['log2FoldChange']) < logFC) \n",
    "                & (abs(diff_brain_liver_with_dge['dPSI']) > psi) & (diff_brain_liver_with_dge['MV[dPsi]'] > mv))\n",
    "\n",
    "diff_brain_liver_with_dge_noDEGs = diff_brain_liver_with_dge[conditions_noDEGs]\n",
    "diff_brain_liver_with_dge_noDEGs\n",
    "\n",
    "# plot relevant events on top of all events\n",
    "sns.scatterplot(data = diff_brain_liver_with_dge, x = 'dPSI', y = 'log2FoldChange', edgecolor = 'k')\n",
    "sns.scatterplot(data = diff_brain_liver_with_dge_noDEGs, x = 'dPSI', y = 'log2FoldChange', color = 'salmon', edgecolor = 'k');\n",
    "\n",
    "plt.title('no_DEGs but DiffSpliced')\n",
    "plt.vlines(x = 0, ymin = -6, ymax = 6, ls = '--', color = 'lightgray', zorder=0)\n",
    "plt.hlines(y = 0, xmin = -0.8, xmax = 0.8, ls = '--', color = 'lightgray', zorder=0);"
   ]
  },
  {
   "cell_type": "code",
   "execution_count": null,
   "id": "6c2530e5-736f-49cb-8421-254e1afd2800",
   "metadata": {},
   "outputs": [],
   "source": [
    "diff_brain_liver_with_dge_noDEGs"
   ]
  },
  {
   "cell_type": "markdown",
   "id": "b3db8a92-0f05-4429-9ac5-ba3b8e9c52c5",
   "metadata": {},
   "source": [
    "#### What can this tell us in this context?\n",
    "\n",
    "#### Functional Diversification\n",
    "- Isoform-Specific Functions: Different functions without changing expression <br>\n",
    "- Context-Specific Roles: Tailored to specific contexts (e.g., tissue, environment) <br>\n",
    "\n",
    "#### What can this tell us in other contexts?\n",
    "\n",
    "- Stress Responses: Adapt to stress without changing expression <br>\n",
    "- Disease Mechanisms: Abnormal splicing linked to diseases <br>\n",
    "- (...)"
   ]
  },
  {
   "attachments": {},
   "cell_type": "markdown",
   "id": "cc67e61b-9d44-422b-b3fe-bb635488a5d9",
   "metadata": {},
   "source": [
    "<h3 align = \"left\"> <img src=\"https://www.ncbi.nlm.nih.gov/pmc/articles/PMC3437557/bin/gr1.jpg\" width=\"600\"/> <br>\n",
    "<h5 align = \"left\"> > doi: 10.1016/j.molcel.2012.05.039 <</h5>"
   ]
  },
  {
   "cell_type": "code",
   "execution_count": null,
   "id": "804a4461-621c-4a0c-9a40-cde2c5f346be",
   "metadata": {},
   "outputs": [],
   "source": []
  },
  {
   "cell_type": "markdown",
   "id": "605831ae-3d14-439d-bf54-5e6d695bf996",
   "metadata": {},
   "source": [
    "#### explore most relevant events - genes that are DEGs and DSG"
   ]
  },
  {
   "cell_type": "code",
   "execution_count": null,
   "id": "73763315-5b86-4807-a866-24f20af5e97a",
   "metadata": {},
   "outputs": [],
   "source": [
    "# conditions as variables\n",
    "pval = 0.05\n",
    "logFC = 1\n",
    "psi = 0.3\n",
    "mv = 0.1\n",
    "\n",
    "# set conditions\n",
    "conditions = ((diff_brain_liver_with_dge['padj'] < pval) & (abs(diff_brain_liver_with_dge['log2FoldChange']) > logFC) \n",
    "                & (abs(diff_brain_liver_with_dge['dPSI']) > psi) & (diff_brain_liver_with_dge['MV[dPsi]'] > mv))\n",
    "\n",
    "diff_brain_liver_with_dge_filtered = diff_brain_liver_with_dge[conditions]\n",
    "diff_brain_liver_with_dge_filtered\n",
    "\n",
    "# plot relevant events on top of all events\n",
    "sns.scatterplot(data = diff_brain_liver_with_dge, x = 'dPSI', y = 'log2FoldChange', edgecolor = 'k')\n",
    "sns.scatterplot(data = diff_brain_liver_with_dge_filtered, x = 'dPSI', y = 'log2FoldChange', color = 'crimson', edgecolor = 'k');\n",
    "\n",
    "plt.title('Genes Diff Expressed & Diff Spliced')\n",
    "plt.vlines(x = 0, ymin = -6, ymax = 6, ls = '--', color = 'lightgray', zorder=0)\n",
    "plt.hlines(y = 0, xmin = -0.8, xmax = 0.8, ls = '--', color = 'lightgray', zorder=0);\n",
    "\n",
    "# labels with results info\n",
    "plt.text(-0.8, -5.5, 'down exp \\n& down exon usage', fontsize = 8)\n",
    "plt.text(0.4, -5.5, 'down exp \\n& up exon usage', fontsize = 8)\n",
    "plt.text(-0.8, 5., 'up exp \\n& down exon usage', fontsize = 8)\n",
    "plt.text(0.4, 5., 'up exp \\n& up exon usage', fontsize = 8);"
   ]
  },
  {
   "cell_type": "markdown",
   "id": "c4754a9a-50a2-4b58-8ed7-b1a9cca59a09",
   "metadata": {},
   "source": [
    "**Possible Interpretation of Results**\n",
    "- Increased gene expression and increased exon usage <br>\n",
    "this particular isoform might be functionally important in the liver (not so much in the brain) <br>\n",
    "splicing mechanisms produce an isoform that is necessary for particular cellular processes or responses in the liver\n",
    "- Increased gene expression and decreased exon usage <br>\n",
    "(similar as above - gene might be more important in the liver, but with a diferent isoform) <br>\n",
    "- Decreased gene expression and increased exon usage <br>\n",
    "This isoform might have a specific role even when the total gene product is less. <br>\n",
    "Compensatory Mechanism: This isoform might have higher stability, distinct functionality, or regulatory significance <br>\n",
    "- Decreased gene expression and decreased exon usage <br>\n",
    "gene and specif isoform are less needed in this context <br>"
   ]
  },
  {
   "attachments": {},
   "cell_type": "markdown",
   "id": "d548c6bb-2566-4bda-9f8e-868be5697ff6",
   "metadata": {},
   "source": [
    "**Take Home Mensage: By analyzing changes in both gene expression and exon inclusion we can gain insights into**\n",
    "- Functional Isoforms: Identifying which isoforms are important in different conditions or stages.\n",
    "- Regulatory Mechanisms: Understanding how splicing and transcriptional regulation are coordinated.\n",
    "- Cellular Responses: Inferring how cells adapt their protein machinery in response to various stimuli or stresses."
   ]
  },
  {
   "cell_type": "markdown",
   "id": "917f7417-d55b-4cd0-ad55-ce8d15d45c26",
   "metadata": {},
   "source": [
    "\n"
   ]
  },
  {
   "cell_type": "markdown",
   "id": "772d43d1-4b70-4b1c-b832-3a865fcc5032",
   "metadata": {},
   "source": [
    "### <span style='color:darkblue'> More exercicies ... (if we have the time)\n",
    "- Explore PSI vs. developmental stage: compare mean PSI (adolescence vs. elderly) - might explain the variability within tissues"
   ]
  },
  {
   "cell_type": "code",
   "execution_count": null,
   "id": "79b7bd82-8a4a-4611-b5dd-b98cd76137ff",
   "metadata": {},
   "outputs": [],
   "source": [
    "# import original data\n",
    "inclusion_table = pd.read_table('data/betaAS_inclusion_table_reshaped.txt')\n",
    "\n",
    "# filter for brain samples\n",
    "brain_psis = inclusion_table.filter(like = 'BRAIN')\n",
    "\n",
    "# rename columns and compare adolescent vs. elderly (extremes)\n",
    "brain_psis.columns = brain_psis.columns.str.split('.').str[1].str.split('_ERR').str[0]\n",
    "brain_adolescence_mean_psi = brain_psis['ADOLESCENT'].mean(axis = 1)\n",
    "brain_elderly_mean_psi = brain_psis['ELDERLY'].mean(axis = 1)\n",
    "brain_young_old_diff = brain_elderly_mean_psi - brain_adolescence_mean_psi\n",
    "\n",
    "# build a new data frame\n",
    "brain_old_young = pd.concat([inclusion_table[['GENE','EVENT']], \n",
    "                             brain_adolescence_mean_psi, \n",
    "                             brain_elderly_mean_psi,\n",
    "                             brain_young_old_diff ], axis = 1)\n",
    "\n",
    "brain_old_young.columns = ['GENE', 'EVENT','YOUNG_BRAIN', 'OLD_BRAIN', 'BRAIN_DIFF']\n",
    "\n",
    "# sort by diff and keep only top events\n",
    "brain_old_young = brain_old_young.sort_values('BRAIN_DIFF')\n",
    "brain_old_young = brain_old_young[abs(brain_old_young['BRAIN_DIFF']) > 20]\n",
    "\n",
    "# plotting\n",
    "sns.heatmap(data = brain_old_young.set_index(['GENE','EVENT']).drop('BRAIN_DIFF', axis = 1), cmap = 'Purples');\n",
    "plt.title('EXON Usage From Young to Old Peepz \\n');"
   ]
  },
  {
   "cell_type": "markdown",
   "id": "0de449a2-9690-4ebc-ba78-604c6bc8b660",
   "metadata": {},
   "source": [
    "#### Links to Explore"
   ]
  },
  {
   "cell_type": "markdown",
   "id": "0309828d-daea-4663-8479-e98e340b7736",
   "metadata": {},
   "source": [
    "https://genome.ucsc.edu/"
   ]
  },
  {
   "cell_type": "markdown",
   "id": "89639078-6a89-4bae-b716-d60f96727c59",
   "metadata": {},
   "source": [
    "https://vastdb.crg.eu/wiki/Main_Page"
   ]
  },
  {
   "cell_type": "code",
   "execution_count": null,
   "id": "6fe6fe75-9cae-416b-bcd3-e98a4e8407eb",
   "metadata": {},
   "outputs": [],
   "source": []
  },
  {
   "cell_type": "code",
   "execution_count": null,
   "id": "68cd315f-0063-46c0-b7b9-efedbe11783d",
   "metadata": {},
   "outputs": [],
   "source": []
  },
  {
   "cell_type": "code",
   "execution_count": null,
   "id": "6b926c71-6686-40e3-a40c-b814d8ffb8f4",
   "metadata": {},
   "outputs": [],
   "source": []
  },
  {
   "cell_type": "code",
   "execution_count": null,
   "id": "9179d79f-610a-43d2-82e9-cfa141ff978a",
   "metadata": {},
   "outputs": [],
   "source": []
  },
  {
   "cell_type": "code",
   "execution_count": null,
   "id": "afea0386-2548-4a76-85a2-c7add576bfc0",
   "metadata": {},
   "outputs": [],
   "source": []
  },
  {
   "cell_type": "code",
   "execution_count": null,
   "id": "e0450072-0f85-4509-aa1a-efd777c6d7a4",
   "metadata": {},
   "outputs": [],
   "source": []
  },
  {
   "cell_type": "code",
   "execution_count": null,
   "id": "2d802d5b-7976-4445-9063-accc6fb3d025",
   "metadata": {},
   "outputs": [],
   "source": []
  },
  {
   "cell_type": "code",
   "execution_count": null,
   "id": "f68fcb5c-fc5a-4f0d-9803-e4884fbfa722",
   "metadata": {},
   "outputs": [],
   "source": []
  },
  {
   "cell_type": "code",
   "execution_count": null,
   "id": "7bbbd122-a4bd-46b1-8748-8a4d801a539c",
   "metadata": {},
   "outputs": [],
   "source": []
  }
 ],
 "metadata": {
  "kernelspec": {
   "display_name": "Python 3 (ipykernel)",
   "language": "python",
   "name": "python3"
  },
  "language_info": {
   "codemirror_mode": {
    "name": "ipython",
    "version": 3
   },
   "file_extension": ".py",
   "mimetype": "text/x-python",
   "name": "python",
   "nbconvert_exporter": "python",
   "pygments_lexer": "ipython3",
   "version": "3.11.7"
  }
 },
 "nbformat": 4,
 "nbformat_minor": 5
}
